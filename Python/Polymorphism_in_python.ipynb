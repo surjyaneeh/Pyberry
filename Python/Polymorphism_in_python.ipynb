{
  "nbformat": 4,
  "nbformat_minor": 0,
  "metadata": {
    "colab": {
      "provenance": []
    },
    "kernelspec": {
      "name": "python3",
      "display_name": "Python 3"
    },
    "language_info": {
      "name": "python"
    }
  },
  "cells": [
    {
      "cell_type": "markdown",
      "source": [
        "# **Explaining Polymorphism with Talking Animals**\n",
        "\n",
        "Polymorphism is a fascinating concept in programming that can be understood through a fun analogy involving magical talking animals. Let's dive into this enchanting world!\n",
        "\n",
        "## The Magical Animal Kingdom\n",
        "\n",
        "Imagine you've stumbled upon a magical animal kingdom where dogs, cats, and ducks reside. Each of these creatures has a unique way of communicating: dogs bark, cats meow, and ducks quack.\n",
        "\n",
        "**Here's how they look in Python code:**"
      ],
      "metadata": {
        "id": "ztOx78SXSyzR"
      }
    },
    {
      "cell_type": "code",
      "execution_count": 2,
      "metadata": {
        "id": "uXDECzqySsKM"
      },
      "outputs": [],
      "source": [
        "class Dog:\n",
        "    def speak(self):\n",
        "        return \"Woof!\"\n",
        "\n",
        "class Cat:\n",
        "    def speak(self):\n",
        "        return \"Meow!\"\n",
        "\n",
        "class Duck:\n",
        "    def speak(self):\n",
        "        return \"Quack!\""
      ]
    },
    {
      "cell_type": "markdown",
      "source": [
        "#The Polymorphic Spell\n",
        "Now, picture this: you discover a mystical spell called \"Polymorphic Speak\" that allows any animal to speak a common language. When an animal is touched by this spell, it starts using the shared language instead of its usual sound.\n",
        "\n",
        "In Python, this spell is akin to polymorphism. It enables objects of different classes to be treated as objects of a common parent class. Here's the modified code:"
      ],
      "metadata": {
        "id": "hfSQLWYpTC_l"
      }
    },
    {
      "cell_type": "code",
      "source": [
        "class Animal:\n",
        "    def speak(self):\n",
        "        pass\n",
        "\n",
        "class Dog(Animal):\n",
        "    def speak(self):\n",
        "        return \"Woof!\"\n",
        "\n",
        "class Cat(Animal):\n",
        "    def speak(self):\n",
        "        return \"Meow!\"\n",
        "\n",
        "class Duck(Animal):\n",
        "    def speak(self):\n",
        "        return \"Quack!\""
      ],
      "metadata": {
        "id": "uiP_0SxXTQnl"
      },
      "execution_count": 3,
      "outputs": []
    },
    {
      "cell_type": "markdown",
      "source": [
        "#The Wise Observer\n",
        "In this magical kingdom, you have a wise observer named the \"Language Interpreter.\" This observer can understand and communicate with any animal using their newfound common language. Let's see this observer in action with a magical function:"
      ],
      "metadata": {
        "id": "U6yJ_ROkTUsE"
      }
    },
    {
      "cell_type": "code",
      "source": [
        "def communicate(animal):\n",
        "    return animal.speak()"
      ],
      "metadata": {
        "id": "ot8LWEjmTYbz"
      },
      "execution_count": 4,
      "outputs": []
    },
    {
      "cell_type": "markdown",
      "source": [
        "#Unleashing the Magic\n",
        "With everything set, you bring a dog, a cat, and a duck to the Language Interpreter. You use the communicate() function, and something incredible happens:"
      ],
      "metadata": {
        "id": "wIgrIYBcTcxZ"
      }
    },
    {
      "cell_type": "code",
      "source": [
        "dog = Dog()\n",
        "cat = Cat()\n",
        "duck = Duck()\n",
        "\n",
        "print(communicate(dog))   # Output: Woof!\n",
        "print(communicate(cat))   # Output: Meow!\n",
        "print(communicate(duck))  # Output: Quack!"
      ],
      "metadata": {
        "colab": {
          "base_uri": "https://localhost:8080/"
        },
        "id": "smzDbBs8Te1d",
        "outputId": "2a0cb044-b66a-454f-e2c1-6a5a663159e8"
      },
      "execution_count": 5,
      "outputs": [
        {
          "output_type": "stream",
          "name": "stdout",
          "text": [
            "Woof!\n",
            "Meow!\n",
            "Quack!\n"
          ]
        }
      ]
    },
    {
      "cell_type": "markdown",
      "source": [
        "*The Language Interpreter (function) doesn't need to know which specific animal it's dealing with. Thanks to polymorphism, it understands and interacts with each animal using the shared language, producing their distinct sounds.*"
      ],
      "metadata": {
        "id": "7PitG11rTnbO"
      }
    },
    {
      "cell_type": "markdown",
      "source": [
        "##Wrapping Up\n",
        "And there you have it! Polymorphism is like a magical spell that transforms diverse creatures into speakers of a common language. It empowers you to write flexible and reusable code by treating different objects as instances of a shared base class. Just as the Language Interpreter understands all animals, your code can seamlessly work with different object types, enhancing code elegance and adaptability."
      ],
      "metadata": {
        "id": "gm6O-HixTt6i"
      }
    }
  ]
}