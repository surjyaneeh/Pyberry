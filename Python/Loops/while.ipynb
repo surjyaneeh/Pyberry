//With the while loop we can execute a set of statements as long as a condition is true.


i = 1
while i < 6:
  print(i)
  i += 1
  
  //This is basic while loop. It will print 1 to 6 numbers using While loop. There is an condition like i<6. SO it loop will be run untill i<6. Every while excution i will increase by 1. 
  //remember to increment i, or else the loop will continue forever.
  //The while loop requires relevant variables to be ready, in this example we need to define an indexing variable, i, which we set to 1.
